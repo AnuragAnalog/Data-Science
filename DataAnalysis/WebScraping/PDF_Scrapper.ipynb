{
 "cells": [
  {
   "cell_type": "code",
   "execution_count": 3,
   "metadata": {},
   "outputs": [],
   "source": [
    "import PyPDF2"
   ]
  },
  {
   "cell_type": "code",
   "execution_count": 14,
   "metadata": {},
   "outputs": [],
   "source": [
    "pdf= open('C:\\\\Users\\\\Navya Tatikonda\\\\Desktop\\\\example.pdf', 'rb') "
   ]
  },
  {
   "cell_type": "code",
   "execution_count": 15,
   "metadata": {},
   "outputs": [],
   "source": [
    "pdfReader = PyPDF2.PdfFileReader(pdf)"
   ]
  },
  {
   "cell_type": "code",
   "execution_count": 16,
   "metadata": {},
   "outputs": [
    {
     "name": "stdout",
     "output_type": "stream",
     "text": [
      "189\n"
     ]
    }
   ],
   "source": [
    "print(pdfReader.numPages)"
   ]
  },
  {
   "cell_type": "code",
   "execution_count": 23,
   "metadata": {},
   "outputs": [],
   "source": [
    "page1=pdfReader.getPage(4)"
   ]
  },
  {
   "cell_type": "code",
   "execution_count": 24,
   "metadata": {},
   "outputs": [
    {
     "name": "stdout",
     "output_type": "stream",
     "text": [
      "Draft:\n",
      "DoNot\n",
      "Distribute\n",
      "5\n",
      "11\n",
      "EnsembleMethods\n",
      "149\n",
      "12\n",
      "EfficientLearning\n",
      "156\n",
      "13\n",
      "UnsupervisedLearning\n",
      "163\n",
      "14\n",
      "ExpectationMaximization\n",
      "171\n",
      "15\n",
      "Semi-SupervisedLearning\n",
      "177\n",
      "16\n",
      "GraphicalModels\n",
      "179\n",
      "17\n",
      "OnlineLearning\n",
      "180\n",
      "18\n",
      "StructuredLearningTasks\n",
      "182\n",
      "19\n",
      "BayesianLearning\n",
      "183\n",
      "CodeandDatasets\n",
      "184\n",
      "Notation\n",
      "185\n",
      "Bibliography\n",
      "186\n",
      "Index\n",
      "187\n",
      "\n"
     ]
    }
   ],
   "source": [
    "print(page1.extractText())"
   ]
  },
  {
   "cell_type": "code",
   "execution_count": null,
   "metadata": {},
   "outputs": [],
   "source": []
  }
 ],
 "metadata": {
  "kernelspec": {
   "display_name": "Python 3",
   "language": "python",
   "name": "python3"
  },
  "language_info": {
   "codemirror_mode": {
    "name": "ipython",
    "version": 3
   },
   "file_extension": ".py",
   "mimetype": "text/x-python",
   "name": "python",
   "nbconvert_exporter": "python",
   "pygments_lexer": "ipython3",
   "version": "3.7.3"
  }
 },
 "nbformat": 4,
 "nbformat_minor": 2
}
